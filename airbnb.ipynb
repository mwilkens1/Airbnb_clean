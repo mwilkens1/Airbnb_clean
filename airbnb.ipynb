{
 "nbformat": 4,
 "nbformat_minor": 2,
 "metadata": {
  "language_info": {
   "name": "python",
   "codemirror_mode": {
    "name": "ipython",
    "version": 3
   },
   "version": "3.7.3-final"
  },
  "orig_nbformat": 2,
  "file_extension": ".py",
  "mimetype": "text/x-python",
  "name": "python",
  "npconvert_exporter": "python",
  "pygments_lexer": "ipython3",
  "version": 3,
  "kernelspec": {
   "name": "python37364bitbaseconda627861933211447fa3d0dae2dcc65a67",
   "display_name": "Python 3.7.3 64-bit ('base': conda)"
  }
 },
 "cells": [
  {
   "cell_type": "markdown",
   "execution_count": null,
   "metadata": {},
   "outputs": [],
   "source": [
    "# Airbnb: cleaning fees\n",
    "\n",
    "Data has been downloaded from: http://insideairbnb.com/get-the-data.html. The first step is to read the data and merge the two cities.  "
   ]
  },
  {
   "cell_type": "code",
   "execution_count": 191,
   "metadata": {},
   "outputs": [],
   "source": [
    "import pandas as pd\n",
    "import matplotlib.pyplot as plt\n",
    "import seaborn as sns\n",
    "import numpy as np\n",
    "\n",
    "df = pd.read_csv(\"data/listings_amsterdam.csv\", index_col=\"id\", low_memory=False)"
   ]
  },
  {
   "cell_type": "markdown",
   "execution_count": null,
   "metadata": {},
   "outputs": [],
   "source": [
    "We have over 20 thousand listings in Amsterdam.\n",
    "\n",
    "Let start with having a look at the cleaning fees and the price per night. "
   ]
  },
  {
   "cell_type": "code",
   "execution_count": 192,
   "metadata": {},
   "outputs": [
    {
     "name": "stdout",
     "output_type": "stream",
     "text": "<class 'pandas.core.frame.DataFrame'>\nInt64Index: 20025 entries, 2818 to 40655209\nData columns (total 2 columns):\n #   Column        Non-Null Count  Dtype \n---  ------        --------------  ----- \n 0   price         20025 non-null  object\n 1   cleaning_fee  16421 non-null  object\ndtypes: object(2)\nmemory usage: 469.3+ KB\n"
    }
   ],
   "source": [
    "df[[\"price\",\"cleaning_fee\"]].info()"
   ]
  },
  {
   "cell_type": "markdown",
   "execution_count": null,
   "metadata": {},
   "outputs": [],
   "source": [
    "It seems that price has no missing values, while the cleaning fee has over 6 thousand missing values. After checkig a few of the ads on the website, I concluded that the missing values can be interpreted as not charging a cleaning fee so they can be recoded to 0. Also, we need to get rid of the dollar sign (should be Euro actually) and convert the columns to floats. Also, I am creating a 'cleaning ratio' which is the cleaning fee divided by the price per night."
   ]
  },
  {
   "cell_type": "code",
   "execution_count": 193,
   "metadata": {},
   "outputs": [],
   "source": [
    "for var in ['price','cleaning_fee']:\n",
    "\n",
    "    df[var] = df[var].replace({'\\$':''}, regex=True)\n",
    "    df[var] = df[var].replace({'\\,':''}, regex=True).astype(float)\n",
    "\n",
    "df['cleaning_fee'].fillna(0, inplace=True) \n",
    "\n",
    "df['cleaning_ratio'] = df.cleaning_fee / df.price\n"
   ]
  },
  {
   "cell_type": "markdown",
   "execution_count": null,
   "metadata": {},
   "outputs": [],
   "source": [
    "Lets see if the data have some outliers or other strange values."
   ]
  },
  {
   "cell_type": "code",
   "execution_count": 194,
   "metadata": {},
   "outputs": [
    {
     "data": {
      "text/html": "<div>\n<style scoped>\n    .dataframe tbody tr th:only-of-type {\n        vertical-align: middle;\n    }\n\n    .dataframe tbody tr th {\n        vertical-align: top;\n    }\n\n    .dataframe thead th {\n        text-align: right;\n    }\n</style>\n<table border=\"1\" class=\"dataframe\">\n  <thead>\n    <tr style=\"text-align: right;\">\n      <th></th>\n      <th>price</th>\n      <th>cleaning_fee</th>\n      <th>cleaning_ratio</th>\n    </tr>\n  </thead>\n  <tbody>\n    <tr>\n      <th>count</th>\n      <td>20025.000000</td>\n      <td>20025.000000</td>\n      <td>2.002500e+04</td>\n    </tr>\n    <tr>\n      <th>mean</th>\n      <td>163.251685</td>\n      <td>32.358652</td>\n      <td>inf</td>\n    </tr>\n    <tr>\n      <th>std</th>\n      <td>198.538156</td>\n      <td>27.821606</td>\n      <td>NaN</td>\n    </tr>\n    <tr>\n      <th>min</th>\n      <td>0.000000</td>\n      <td>0.000000</td>\n      <td>0.000000e+00</td>\n    </tr>\n    <tr>\n      <th>25%</th>\n      <td>99.000000</td>\n      <td>10.000000</td>\n      <td>8.823529e-02</td>\n    </tr>\n    <tr>\n      <th>50%</th>\n      <td>130.000000</td>\n      <td>30.000000</td>\n      <td>2.250000e-01</td>\n    </tr>\n    <tr>\n      <th>75%</th>\n      <td>185.000000</td>\n      <td>50.000000</td>\n      <td>3.333333e-01</td>\n    </tr>\n    <tr>\n      <th>90%</th>\n      <td>255.000000</td>\n      <td>60.000000</td>\n      <td>4.500000e-01</td>\n    </tr>\n    <tr>\n      <th>95%</th>\n      <td>345.000000</td>\n      <td>75.000000</td>\n      <td>5.333333e-01</td>\n    </tr>\n    <tr>\n      <th>99%</th>\n      <td>600.000000</td>\n      <td>120.000000</td>\n      <td>7.575758e-01</td>\n    </tr>\n    <tr>\n      <th>max</th>\n      <td>9000.000000</td>\n      <td>531.000000</td>\n      <td>inf</td>\n    </tr>\n  </tbody>\n</table>\n</div>",
      "text/plain": "              price  cleaning_fee  cleaning_ratio\ncount  20025.000000  20025.000000    2.002500e+04\nmean     163.251685     32.358652             inf\nstd      198.538156     27.821606             NaN\nmin        0.000000      0.000000    0.000000e+00\n25%       99.000000     10.000000    8.823529e-02\n50%      130.000000     30.000000    2.250000e-01\n75%      185.000000     50.000000    3.333333e-01\n90%      255.000000     60.000000    4.500000e-01\n95%      345.000000     75.000000    5.333333e-01\n99%      600.000000    120.000000    7.575758e-01\nmax     9000.000000    531.000000             inf"
     },
     "execution_count": 194,
     "metadata": {},
     "output_type": "execute_result"
    }
   ],
   "source": [
    "df[['price','cleaning_fee','cleaning_ratio']].describe(percentiles=[.25,.5,.75,.9,.95,.99])"
   ]
  },
  {
   "cell_type": "markdown",
   "execution_count": null,
   "metadata": {},
   "outputs": [],
   "source": [
    "Seems like some of the listings have a price of 0 and some also have a quite extreme prices. Lets look more closely."
   ]
  },
  {
   "cell_type": "code",
   "execution_count": 195,
   "metadata": {},
   "outputs": [
    {
     "data": {
      "text/html": "<div>\n<style scoped>\n    .dataframe tbody tr th:only-of-type {\n        vertical-align: middle;\n    }\n\n    .dataframe tbody tr th {\n        vertical-align: top;\n    }\n\n    .dataframe thead th {\n        text-align: right;\n    }\n</style>\n<table border=\"1\" class=\"dataframe\">\n  <thead>\n    <tr style=\"text-align: right;\">\n      <th></th>\n      <th>price</th>\n      <th>cleaning_fee</th>\n      <th>cleaning_ratio</th>\n    </tr>\n    <tr>\n      <th>id</th>\n      <th></th>\n      <th></th>\n      <th></th>\n    </tr>\n  </thead>\n  <tbody>\n    <tr>\n      <th>19686192</th>\n      <td>5000.0</td>\n      <td>0.0</td>\n      <td>0.000000</td>\n    </tr>\n    <tr>\n      <th>29926643</th>\n      <td>5040.0</td>\n      <td>50.0</td>\n      <td>0.009921</td>\n    </tr>\n    <tr>\n      <th>33842636</th>\n      <td>7550.0</td>\n      <td>0.0</td>\n      <td>0.000000</td>\n    </tr>\n    <tr>\n      <th>258273</th>\n      <td>8000.0</td>\n      <td>15.0</td>\n      <td>0.001875</td>\n    </tr>\n    <tr>\n      <th>6655554</th>\n      <td>8915.0</td>\n      <td>500.0</td>\n      <td>0.056085</td>\n    </tr>\n    <tr>\n      <th>286500</th>\n      <td>9000.0</td>\n      <td>0.0</td>\n      <td>0.000000</td>\n    </tr>\n    <tr>\n      <th>290701</th>\n      <td>9000.0</td>\n      <td>0.0</td>\n      <td>0.000000</td>\n    </tr>\n    <tr>\n      <th>33730638</th>\n      <td>9000.0</td>\n      <td>0.0</td>\n      <td>0.000000</td>\n    </tr>\n  </tbody>\n</table>\n</div>",
      "text/plain": "           price  cleaning_fee  cleaning_ratio\nid                                            \n19686192  5000.0           0.0        0.000000\n29926643  5040.0          50.0        0.009921\n33842636  7550.0           0.0        0.000000\n258273    8000.0          15.0        0.001875\n6655554   8915.0         500.0        0.056085\n286500    9000.0           0.0        0.000000\n290701    9000.0           0.0        0.000000\n33730638  9000.0           0.0        0.000000"
     },
     "execution_count": 195,
     "metadata": {},
     "output_type": "execute_result"
    }
   ],
   "source": [
    "df[['price','cleaning_fee','cleaning_ratio']].sort_values(by='price').tail(8)"
   ]
  },
  {
   "cell_type": "markdown",
   "execution_count": null,
   "metadata": {},
   "outputs": [],
   "source": [
    "9000 per night is high, but not unusual so lets keep that data."
   ]
  },
  {
   "cell_type": "code",
   "execution_count": 196,
   "metadata": {},
   "outputs": [],
   "source": [
    "df = df.loc[df.price != 0]"
   ]
  },
  {
   "cell_type": "code",
   "execution_count": 197,
   "metadata": {},
   "outputs": [
    {
     "data": {
      "text/html": "<div>\n<style scoped>\n    .dataframe tbody tr th:only-of-type {\n        vertical-align: middle;\n    }\n\n    .dataframe tbody tr th {\n        vertical-align: top;\n    }\n\n    .dataframe thead th {\n        text-align: right;\n    }\n</style>\n<table border=\"1\" class=\"dataframe\">\n  <thead>\n    <tr style=\"text-align: right;\">\n      <th></th>\n      <th>price</th>\n      <th>cleaning_fee</th>\n      <th>cleaning_ratio</th>\n    </tr>\n    <tr>\n      <th>id</th>\n      <th></th>\n      <th></th>\n      <th></th>\n    </tr>\n  </thead>\n  <tbody>\n    <tr>\n      <th>5974980</th>\n      <td>118.0</td>\n      <td>480.0</td>\n      <td>4.067797</td>\n    </tr>\n    <tr>\n      <th>6655554</th>\n      <td>8915.0</td>\n      <td>500.0</td>\n      <td>0.056085</td>\n    </tr>\n    <tr>\n      <th>10328570</th>\n      <td>380.0</td>\n      <td>500.0</td>\n      <td>1.315789</td>\n    </tr>\n    <tr>\n      <th>2234543</th>\n      <td>600.0</td>\n      <td>500.0</td>\n      <td>0.833333</td>\n    </tr>\n    <tr>\n      <th>6149173</th>\n      <td>100.0</td>\n      <td>531.0</td>\n      <td>5.310000</td>\n    </tr>\n  </tbody>\n</table>\n</div>",
      "text/plain": "           price  cleaning_fee  cleaning_ratio\nid                                            \n5974980    118.0         480.0        4.067797\n6655554   8915.0         500.0        0.056085\n10328570   380.0         500.0        1.315789\n2234543    600.0         500.0        0.833333\n6149173    100.0         531.0        5.310000"
     },
     "execution_count": 197,
     "metadata": {},
     "output_type": "execute_result"
    }
   ],
   "source": [
    "df[['price','cleaning_fee','cleaning_ratio']].sort_values(by='cleaning_fee').tail()"
   ]
  },
  {
   "cell_type": "markdown",
   "execution_count": null,
   "metadata": {},
   "outputs": [],
   "source": [
    "Some cleaning fees look rather high and in some cases much higher than the price for one night. Most extreme is a 1000 Euro cleaning fee, but this is also for a listing with a price of 3900 per night so its realistic.\n",
    "\n",
    "Next up some distribtional plots of the price and cleaning fee in each city. Because of the skewness in the distribution I transform the variables to a log scale. Note that this excludes the listings that do not charge a cleaning fee."
   ]
  },
  {
   "cell_type": "code",
   "execution_count": 198,
   "metadata": {},
   "outputs": [
    {
     "ename": "AttributeError",
     "evalue": "'DataFrame' object has no attribute 'logclean'",
     "output_type": "error",
     "traceback": [
      "\u001b[1;31m---------------------------------------------------------------------------\u001b[0m",
      "\u001b[1;31mAttributeError\u001b[0m                            Traceback (most recent call last)",
      "\u001b[1;32m<ipython-input-198-c0c605d5ca6d>\u001b[0m in \u001b[0;36m<module>\u001b[1;34m\u001b[0m\n\u001b[1;32m----> 1\u001b[1;33m \u001b[0mdf\u001b[0m\u001b[1;33m.\u001b[0m\u001b[0mlogclean\u001b[0m\u001b[1;33m.\u001b[0m\u001b[0mhead\u001b[0m\u001b[1;33m(\u001b[0m\u001b[1;33m)\u001b[0m\u001b[1;33m\u001b[0m\u001b[1;33m\u001b[0m\u001b[0m\n\u001b[0m",
      "\u001b[1;32mC:\\ProgramData\\Anaconda3\\lib\\site-packages\\pandas\\core\\generic.py\u001b[0m in \u001b[0;36m__getattr__\u001b[1;34m(self, name)\u001b[0m\n\u001b[0;32m   5271\u001b[0m             \u001b[1;32mif\u001b[0m \u001b[0mself\u001b[0m\u001b[1;33m.\u001b[0m\u001b[0m_info_axis\u001b[0m\u001b[1;33m.\u001b[0m\u001b[0m_can_hold_identifiers_and_holds_name\u001b[0m\u001b[1;33m(\u001b[0m\u001b[0mname\u001b[0m\u001b[1;33m)\u001b[0m\u001b[1;33m:\u001b[0m\u001b[1;33m\u001b[0m\u001b[1;33m\u001b[0m\u001b[0m\n\u001b[0;32m   5272\u001b[0m                 \u001b[1;32mreturn\u001b[0m \u001b[0mself\u001b[0m\u001b[1;33m[\u001b[0m\u001b[0mname\u001b[0m\u001b[1;33m]\u001b[0m\u001b[1;33m\u001b[0m\u001b[1;33m\u001b[0m\u001b[0m\n\u001b[1;32m-> 5273\u001b[1;33m             \u001b[1;32mreturn\u001b[0m \u001b[0mobject\u001b[0m\u001b[1;33m.\u001b[0m\u001b[0m__getattribute__\u001b[0m\u001b[1;33m(\u001b[0m\u001b[0mself\u001b[0m\u001b[1;33m,\u001b[0m \u001b[0mname\u001b[0m\u001b[1;33m)\u001b[0m\u001b[1;33m\u001b[0m\u001b[1;33m\u001b[0m\u001b[0m\n\u001b[0m\u001b[0;32m   5274\u001b[0m \u001b[1;33m\u001b[0m\u001b[0m\n\u001b[0;32m   5275\u001b[0m     \u001b[1;32mdef\u001b[0m \u001b[0m__setattr__\u001b[0m\u001b[1;33m(\u001b[0m\u001b[0mself\u001b[0m\u001b[1;33m,\u001b[0m \u001b[0mname\u001b[0m\u001b[1;33m:\u001b[0m \u001b[0mstr\u001b[0m\u001b[1;33m,\u001b[0m \u001b[0mvalue\u001b[0m\u001b[1;33m)\u001b[0m \u001b[1;33m->\u001b[0m \u001b[1;32mNone\u001b[0m\u001b[1;33m:\u001b[0m\u001b[1;33m\u001b[0m\u001b[1;33m\u001b[0m\u001b[0m\n",
      "\u001b[1;31mAttributeError\u001b[0m: 'DataFrame' object has no attribute 'logclean'"
     ]
    }
   ],
   "source": [
    "df.logclean.head()"
   ]
  },
  {
   "cell_type": "code",
   "execution_count": 0,
   "metadata": {},
   "outputs": [],
   "source": [
    "df['logprice'] = np.log(df.price)\n",
    "df['logclean'] = np.log(df.cleaning_fee[df.cleaning_fee > 0])\n",
    "sns.distplot(df['logprice'], label=\"Price per night (log)\")\n",
    "sns.distplot(df['logclean'].dropna(), label=\"Cleaning fee (log)\")\n",
    "plt.legend()\n",
    "plt.show()"
   ]
  },
  {
   "cell_type": "markdown",
   "execution_count": null,
   "metadata": {},
   "outputs": [],
   "source": [
    "The plots above shows is some large peaks in the cleaning fees which shows that certain levels of fees are used more commonly.\n",
    "\n",
    "Do more expensive places to stay come with higher cleaning fees? The plots below seem to suggest this is the case, though there is still a considerable amount of variation. "
   ]
  },
  {
   "cell_type": "code",
   "execution_count": 0,
   "metadata": {},
   "outputs": [],
   "source": [
    "sns.regplot(x='logprice', y='logclean', data=df)\n",
    "plt.xlabel('Price per night (log)')\n",
    "plt.ylabel('Cleaning fee (log')\n",
    "plt.show()"
   ]
  },
  {
   "cell_type": "code",
   "execution_count": 0,
   "metadata": {},
   "outputs": [],
   "source": [
    "df.logprice.describe()"
   ]
  },
  {
   "cell_type": "code",
   "execution_count": 0,
   "metadata": {},
   "outputs": [],
   "source": [
    "import folium\n",
    "from folium.plugins import HeatMap\n",
    "\n",
    "hmap = folium.Map(location=[52.35, 4.893699], zoom_start=13,)\n",
    "\n",
    "hm_price = HeatMap( list(zip(df.latitude, df.longitude, df.logprice)),\n",
    "                   min_opacity=0.1,\n",
    "                   max_val=10,\n",
    "                   radius=4, blur=6,\n",
    "                   max_zoom=13,\n",
    "                 )\n",
    "\n",
    "hmap.add_child(hm_price)\n",
    "hmap\n"
   ]
  },
  {
   "cell_type": "code",
   "execution_count": 0,
   "metadata": {},
   "outputs": [],
   "source": [
    "hmap = folium.Map(location=[52.35, 4.893699], zoom_start=13,)\n",
    "\n",
    "mapdata = df[['longitude','latitude','logclean']].dropna()\n",
    "\n",
    "hm_clean = HeatMap( list(zip(mapdata.latitude, mapdata.longitude, mapdata.logclean)),\n",
    "                   min_opacity=0.1,\n",
    "                   max_val=6,\n",
    "                   radius=4, blur=6,\n",
    "                   max_zoom=13,\n",
    "                 )\n",
    "\n",
    "hmap.add_child(hm_clean)\n",
    "hmap\n"
   ]
  },
  {
   "cell_type": "code",
   "execution_count": 0,
   "metadata": {},
   "outputs": [],
   "source": [
    "mapdata.logclean.describe()"
   ]
  },
  {
   "cell_type": "code",
   "execution_count": null,
   "metadata": {},
   "outputs": [],
   "source": []
  }
 ]
}